{
 "cells": [
  {
   "cell_type": "code",
   "execution_count": 2,
   "metadata": {},
   "outputs": [
    {
     "name": "stderr",
     "output_type": "stream",
     "text": [
      "2023-08-19 18:10:24.847713: I tensorflow/tsl/cuda/cudart_stub.cc:28] Could not find cuda drivers on your machine, GPU will not be used.\n",
      "2023-08-19 18:10:24.873594: I tensorflow/tsl/cuda/cudart_stub.cc:28] Could not find cuda drivers on your machine, GPU will not be used.\n",
      "2023-08-19 18:10:24.874572: I tensorflow/core/platform/cpu_feature_guard.cc:182] This TensorFlow binary is optimized to use available CPU instructions in performance-critical operations.\n",
      "To enable the following instructions: AVX2 FMA, in other operations, rebuild TensorFlow with the appropriate compiler flags.\n",
      "2023-08-19 18:10:25.463380: W tensorflow/compiler/tf2tensorrt/utils/py_utils.cc:38] TF-TRT Warning: Could not find TensorRT\n"
     ]
    }
   ],
   "source": [
    "# Import classes package from parent directory\n",
    "from IPython import get_ipython\n",
    "import sys\n",
    "\n",
    "if get_ipython():\n",
    "    current_directory = os.getcwd()\n",
    "    parent_directory = os.path.abspath(os.path.join(current_directory, os.pardir))\n",
    "\n",
    "else:\n",
    "    script_directory = os.path.dirname(os.path.abspath(__file__))\n",
    "    parent_directory = os.path.dirname(script_directory)\n",
    "    \n",
    "sys.path.append(parent_directory)\n",
    "from classes import *"
   ]
  },
  {
   "cell_type": "code",
   "execution_count": 12,
   "metadata": {},
   "outputs": [],
   "source": [
    "# From original KORUS dataset structure to -> two folders tampered and natural, pic format: device_picname.tif\n",
    "\n",
    "source_dataset_dir = '../datasets/data-korus/original/'\n",
    "output_dataset_dir = '../datasets/data-korus/serialized/'\n",
    "\n",
    "os.makedirs(output_dataset_dir + '/tampered/', exist_ok=True)\n",
    "os.makedirs(output_dataset_dir + '/natural/', exist_ok=True)\n",
    "\n",
    "cameras = ['Canon_60D', 'Sony_A57', 'Nikon_D90', 'Nikon_D7000']\n",
    "\n",
    "for idx, camera in enumerate(cameras):\n",
    "    \n",
    "    tampered_dirs = [source_dataset_dir + camera + '/tampered-realistic/' + picname for picname in os.listdir(source_dataset_dir + camera + '/tampered-realistic/')]\n",
    "    natural_dirs =  [source_dataset_dir + camera + '/pristine/' + picname for picname in os.listdir(source_dataset_dir + camera + '/pristine/')]\n",
    "    \n",
    "    tampered_filenames = os.listdir(source_dataset_dir + camera + '/tampered-realistic/')\n",
    "    natural_filenames =  os.listdir(source_dataset_dir + camera + '/pristine/')\n",
    "    \n",
    "    \n",
    "    for filename, filedir in list(zip(tampered_filenames, tampered_dirs)):\n",
    "        destination_file = output_dataset_dir + 'tampered/' + camera + '_' + filename\n",
    "        shutil.copy(filedir, destination_file)\n",
    "        \n",
    "    for filename, filedir in list(zip(natural_filenames, natural_dirs)):\n",
    "        destination_file = output_dataset_dir + 'natural/' + camera + '_' + filename\n",
    "        shutil.copy(filedir, destination_file)\n",
    "    "
   ]
  },
  {
   "cell_type": "code",
   "execution_count": 11,
   "metadata": {},
   "outputs": [],
   "source": [
    "# Convert to JPEG\n",
    "\n",
    "directories = ['new_data/tampered/', 'new_data/natural']\n",
    "\n",
    "for image_directory in directories:\n",
    "\n",
    "    # List all the image files in the directory\n",
    "    image_files = [f for f in os.listdir(image_directory) if f.lower().endswith('.tif')]\n",
    "\n",
    "    # Convert and overwrite images in JPEG format\n",
    "    for image_file in image_files:\n",
    "        image_path = os.path.join(image_directory, image_file)\n",
    "\n",
    "        # Open the original image\n",
    "        original_image = Image.open(image_path)\n",
    "\n",
    "        # Save the image in JPEG format (overwriting the original file)\n",
    "        original_image.save(image_path, 'JPEG')"
   ]
  }
 ],
 "metadata": {
  "kernelspec": {
   "display_name": "Python 3",
   "language": "python",
   "name": "python3"
  },
  "language_info": {
   "codemirror_mode": {
    "name": "ipython",
    "version": 3
   },
   "file_extension": ".py",
   "mimetype": "text/x-python",
   "name": "python",
   "nbconvert_exporter": "python",
   "pygments_lexer": "ipython3",
   "version": "3.10.12"
  },
  "orig_nbformat": 4
 },
 "nbformat": 4,
 "nbformat_minor": 2
}
