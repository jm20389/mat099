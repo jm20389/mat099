{
 "cells": [
  {
   "cell_type": "code",
   "execution_count": 2,
   "metadata": {},
   "outputs": [
    {
     "name": "stdout",
     "output_type": "stream",
     "text": [
      "Computing fingerprints\n",
      "Computing residuals\n",
      "Computing cross correlation\n",
      "Computing statistics cross correlation\n",
      "Computing PCE\n",
      "Computing statistics on PCE\n",
      "AUC on CC 1.00, expected 0.98\n",
      "AUC on PCE 1.00, expected 0.81\n"
     ]
    },
    {
     "data": {
      "text/plain": [
       "({'tpr': array([0.        , 0.00454545, 1.        , 1.        ]),\n",
       "  'fpr': array([0., 0., 0., 1.]),\n",
       "  'th': array([        inf, 101752.8   ,   4381.6816,  -2417.3086], dtype=float32),\n",
       "  'auc': 1.0,\n",
       "  'eer': 0.0},\n",
       " {'tpr': array([0.        , 0.00454545, 1.        , 1.        ]),\n",
       "  'fpr': array([0., 0., 0., 1.]),\n",
       "  'th': array([           inf, 1.80755339e+04, 3.97331900e+02, 1.66239771e+01]),\n",
       "  'auc': 1.0,\n",
       "  'eer': 0.0})"
      ]
     },
     "execution_count": 2,
     "metadata": {},
     "output_type": "execute_result"
    }
   ],
   "source": [
    "# PRNU test using serialized korus dataset\n",
    "\n",
    "from classes import *\n",
    "\n",
    "PRNUProcessor.testPRNU(ff_dir =  'datasets/data-korus/serialized/tampered/*.TIF',\n",
    "                        nat_dir = 'datasets/data-korus/serialized/natural/*.TIF')"
   ]
  }
 ],
 "metadata": {
  "kernelspec": {
   "display_name": "Python 3",
   "language": "python",
   "name": "python3"
  },
  "language_info": {
   "codemirror_mode": {
    "name": "ipython",
    "version": 3
   },
   "file_extension": ".py",
   "mimetype": "text/x-python",
   "name": "python",
   "nbconvert_exporter": "python",
   "pygments_lexer": "ipython3",
   "version": "3.10.12"
  },
  "orig_nbformat": 4
 },
 "nbformat": 4,
 "nbformat_minor": 2
}
